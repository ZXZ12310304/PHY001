{
 "cells": [
  {
   "cell_type": "markdown",
   "metadata": {},
   "source": [
    "## 语句 Statement\n",
    "> 语句按照顺序执行，除非遇到条件判断或者循环语句\n",
    "\n",
    "1. 赋值语句：用于将值赋给一个变量，例：x = 5\n",
    "2. 打印语句：用于在控制台或者终端输出文本或表达式的值，例：print(\"Hello\")\n",
    "3. 控制流语句：包括条件判断（if语句）、循环（for和while语句）等..他们用于控制程序的执行流程\n",
    "4. 函数定义语句\n",
    "5. 类定义语句\n",
    "6. 异常处理语句\n",
    "7. 其他语句：包括import语句（用于导入模块）、del语句\n",
    "\n",
    "**python中的语句通常用冒号结尾，并且缩进相同数量的空格以表示语句块**"
   ]
  },
  {
   "cell_type": "code",
   "execution_count": 3,
   "metadata": {},
   "outputs": [
    {
     "data": {
      "text/plain": [
       "True"
      ]
     },
     "execution_count": 3,
     "metadata": {},
     "output_type": "execute_result"
    }
   ],
   "source": [
    "age = 18\n",
    "height = 180\n",
    "rich = True\n",
    "\n",
    "(age > 18) and (height > 180) or rich"
   ]
  },
  {
   "cell_type": "markdown",
   "metadata": {},
   "source": [
    "**is/ is not 和 --区别**\n",
    "1. 含义不同：==在两个对象是同一类型，==检查值是否相同。如果是不同类型，==会根据类型的不同选择不同的行为（通常会尝试进行类型转换或直接比较对象的引用）\n",
    "2. 应用场景\n",
    "3. 行为不同"
   ]
  },
  {
   "cell_type": "code",
   "execution_count": 1,
   "metadata": {},
   "outputs": [
    {
     "data": {
      "text/plain": [
       "True"
      ]
     },
     "execution_count": 1,
     "metadata": {},
     "output_type": "execute_result"
    }
   ],
   "source": [
    "5 == 5.0"
   ]
  },
  {
   "cell_type": "code",
   "execution_count": 2,
   "metadata": {},
   "outputs": [
    {
     "data": {
      "text/plain": [
       "False"
      ]
     },
     "execution_count": 2,
     "metadata": {},
     "output_type": "execute_result"
    }
   ],
   "source": [
    "5 is 5.0"
   ]
  },
  {
   "cell_type": "code",
   "execution_count": 7,
   "metadata": {},
   "outputs": [
    {
     "data": {
      "text/plain": [
       "(True, True, 2011660408640, 2011660408640)"
      ]
     },
     "execution_count": 7,
     "metadata": {},
     "output_type": "execute_result"
    }
   ],
   "source": [
    "a='Fool'\n",
    "b='Fool'\n",
    "a is b , a==b ,id(a),id(b)"
   ]
  },
  {
   "cell_type": "markdown",
   "metadata": {},
   "source": [
    "#### pass\n",
    "\n",
    "> 空语句，作用是占位，pass不做任何事情，用于保持程序结构的完整性。"
   ]
  },
  {
   "cell_type": "code",
   "execution_count": null,
   "metadata": {},
   "outputs": [],
   "source": [
    "if condition:\n",
    "    statement\n",
    "else:\n",
    "    pass\n"
   ]
  },
  {
   "cell_type": "markdown",
   "metadata": {},
   "source": [
    "*if 语句不带else和用pass的区别在于*\n",
    "- if不带else:当条件不满足时，什么也不做，这是由于短路逻辑\n",
    "- if用了pass:当条件不满足时，使用pass明确表示该点什么都不做，保持了代码结构的完整性"
   ]
  },
  {
   "cell_type": "markdown",
   "metadata": {},
   "source": [
    "**三元操作符**"
   ]
  },
  {
   "cell_type": "code",
   "execution_count": 16,
   "metadata": {},
   "outputs": [
    {
     "data": {
      "text/plain": [
       "2"
      ]
     },
     "execution_count": 16,
     "metadata": {},
     "output_type": "execute_result"
    }
   ],
   "source": [
    "a=1 if 14>15 else 2\n",
    "a"
   ]
  },
  {
   "cell_type": "markdown",
   "metadata": {},
   "source": [
    "---"
   ]
  },
  {
   "cell_type": "markdown",
   "metadata": {},
   "source": [
    "## for循环\n",
    "\n",
    "for element in iterable:\n",
    "    # do something with element\n",
    "\n",
    "> for 变量 in 可迭代对象\n",
    "\n",
    "具体的执行过程：\n",
    "1. 初始化：for循环将变量element初始化味序列的第一个元素\n",
    "2. 判断：检查序列是否还有未遍历的元素，如果有，执行下一步，如果没有，结束循环\n",
    "3. 执行循环体：每次循环，循环体的代码都被执行，可以使用element来访问当前遍历到的元素，如果循环体内有多条语句，按照顺序执行\n",
    "4. 更新遍历：循环将element更新为序列中的下一个元素，并重复执行步骤1和步骤3，直到序列中的所有元素都被遍历"
   ]
  },
  {
   "cell_type": "code",
   "execution_count": 8,
   "metadata": {},
   "outputs": [
    {
     "name": "stdout",
     "output_type": "stream",
     "text": [
      "尝一尝：草莓味\n",
      "尝一尝：葡萄味\n",
      "尝一尝：柠檬味\n",
      "尝一尝：巧克力味\n"
     ]
    }
   ],
   "source": [
    "# 可迭代对象\n",
    "candy_bag = ['草莓味', '葡萄味', '柠檬味', '巧克力味']\n",
    "\n",
    "for candy in candy_bag:\n",
    "    print('尝一尝：' + candy)"
   ]
  },
  {
   "cell_type": "code",
   "execution_count": 38,
   "metadata": {},
   "outputs": [
    {
     "data": {
      "text/plain": [
       "[0, 1, 4, 9, 16, 25, 36, 49, 64, 81]"
      ]
     },
     "execution_count": 38,
     "metadata": {},
     "output_type": "execute_result"
    }
   ],
   "source": [
    "sq=[x**2 for x in range(10)]\n",
    "sq"
   ]
  },
  {
   "cell_type": "markdown",
   "metadata": {},
   "source": [
    "**括号内**"
   ]
  },
  {
   "cell_type": "code",
   "execution_count": 24,
   "metadata": {},
   "outputs": [
    {
     "name": "stdout",
     "output_type": "stream",
     "text": [
      "0\n",
      "1\n"
     ]
    }
   ],
   "source": [
    "for i in range(2):\n",
    "    print(i)"
   ]
  },
  {
   "cell_type": "code",
   "execution_count": 26,
   "metadata": {},
   "outputs": [
    {
     "name": "stdout",
     "output_type": "stream",
     "text": [
      "0\n",
      "3\n",
      "6\n",
      "9\n"
     ]
    }
   ],
   "source": [
    "for i in range(0,10,3):\n",
    "    print(i)"
   ]
  },
  {
   "cell_type": "markdown",
   "metadata": {},
   "source": [
    "**enumerate**\n",
    "内置函数，用于将可遍历对象转换为一个索引-值对的迭代器"
   ]
  },
  {
   "cell_type": "code",
   "execution_count": 29,
   "metadata": {},
   "outputs": [
    {
     "name": "stdout",
     "output_type": "stream",
     "text": [
      "(0, 'a')\n",
      "(1, 'b')\n",
      "(2, 'c')\n"
     ]
    }
   ],
   "source": [
    "lst_a = ['a', 'b', 'c']\n",
    "\n",
    "for i in enumerate(lst_a):\n",
    "    print(i)"
   ]
  },
  {
   "cell_type": "code",
   "execution_count": 35,
   "metadata": {},
   "outputs": [
    {
     "name": "stdout",
     "output_type": "stream",
     "text": [
      "1 a\n",
      "2 b\n",
      "3 c\n"
     ]
    }
   ],
   "source": [
    "for (n, x) in enumerate(lst_a, 1):\n",
    "    print(n, x)"
   ]
  },
  {
   "cell_type": "markdown",
   "metadata": {},
   "source": [
    "#### 嵌套循环\n",
    "\n",
    "> 在其中一个循环内部包含另一个循环 -> 这种结构通常用于需要对数据进行多层或多次迭代的场景\n",
    "\n",
    "- 内层的循环通常依赖于外层循环的每次迭代\n",
    "- 或者用来遍历外层循环产生的每个元素\n",
    "\n",
    "**用途**\n",
    "1. 多维数组或列表的遍历\n",
    "2. 组合排列\n",
    "3. 字符串处理\n",
    "4. 数据处理"
   ]
  },
  {
   "cell_type": "code",
   "execution_count": 1,
   "metadata": {},
   "outputs": [
    {
     "data": {
      "text/plain": [
       "24"
      ]
     },
     "execution_count": 1,
     "metadata": {},
     "output_type": "execute_result"
    }
   ],
   "source": [
    "result = set()\n",
    "\n",
    "for i in range(1, 5): # 百位\n",
    "    for j in range(1, 5): # 十位\n",
    "        for k in range(1, 5): # 个位\n",
    "            if i != j and i != k and j != k:\n",
    "                num = i * 100 + j *10 + k\n",
    "                result.add(num)\n",
    "                \n",
    "count = len(result)\n",
    "count"
   ]
  },
  {
   "cell_type": "markdown",
   "metadata": {},
   "source": [
    "---"
   ]
  },
  {
   "cell_type": "markdown",
   "metadata": {},
   "source": [
    "## while循环"
   ]
  },
  {
   "cell_type": "markdown",
   "metadata": {},
   "source": [
    "#### break 和 continue\n",
    "\n",
    "> continue语句用于在循环的某个条件满足时，跳过当前循环体的剩余部分，直接进入下一次循环"
   ]
  },
  {
   "cell_type": "code",
   "execution_count": 2,
   "metadata": {},
   "outputs": [
    {
     "name": "stdout",
     "output_type": "stream",
     "text": [
      "尝一尝：草莓味\n",
      "尝一尝：葡萄味\n",
      "Find it！\n"
     ]
    }
   ],
   "source": [
    "# 可迭代对象\n",
    "candy_bag = ['草莓味', '葡萄味', '柠檬味', '巧克力味']\n",
    "\n",
    "for candy in candy_bag:\n",
    "    print('尝一尝：' + candy)\n",
    "    if candy ==  '葡萄味':\n",
    "        print(\"Find it！\")\n",
    "        break"
   ]
  },
  {
   "cell_type": "code",
   "execution_count": 3,
   "metadata": {},
   "outputs": [
    {
     "name": "stdout",
     "output_type": "stream",
     "text": [
      "9\n",
      "7\n",
      "5\n",
      "3\n",
      "1\n"
     ]
    }
   ],
   "source": [
    "count = 10\n",
    "\n",
    "while count > 0:\n",
    "    count -= 1\n",
    "    if count % 2 == 0:\n",
    "        continue\n",
    "        \n",
    "    print(count)"
   ]
  },
  {
   "cell_type": "markdown",
   "metadata": {},
   "source": [
    "---"
   ]
  },
  {
   "cell_type": "markdown",
   "metadata": {},
   "source": [
    "**random.randint()**\n",
    "随机数"
   ]
  },
  {
   "cell_type": "code",
   "execution_count": 50,
   "metadata": {},
   "outputs": [
    {
     "data": {
      "text/plain": [
       "6"
      ]
     },
     "execution_count": 50,
     "metadata": {},
     "output_type": "execute_result"
    }
   ],
   "source": [
    "import random\n",
    "\n",
    "correct_num = random.randint(1, 10)\n",
    "correct_num"
   ]
  },
  {
   "cell_type": "markdown",
   "metadata": {},
   "source": [
    "---"
   ]
  },
  {
   "cell_type": "markdown",
   "metadata": {},
   "source": [
    "*输入一行字符，分别统计出其中英文字母、空格、数字和\n",
    "其它字符的个数。(tips: isalpha, isspace, isdigit)*"
   ]
  },
  {
   "cell_type": "code",
   "execution_count": 13,
   "metadata": {},
   "outputs": [
    {
     "name": "stdin",
     "output_type": "stream",
     "text": [
      "请输入一行字符： swod 595 .\n"
     ]
    },
    {
     "data": {
      "text/plain": [
       "'英文字母：4,空格：2,数字：3,其他字符：1'"
      ]
     },
     "execution_count": 13,
     "metadata": {},
     "output_type": "execute_result"
    }
   ],
   "source": [
    "characters=input('请输入一行字符：')\n",
    "letters=spaces=digits=others=0\n",
    "for i in characters:\n",
    "    if i.isalpha():\n",
    "        letters+=1\n",
    "    elif i.isspace():\n",
    "        spaces+=1\n",
    "    elif i.isdigit():\n",
    "        digits+=1\n",
    "    else:\n",
    "        others+=1\n",
    "f'英文字母：{letters},空格：{spaces},数字：{digits},其他字符：{others}'"
   ]
  },
  {
   "cell_type": "markdown",
   "metadata": {},
   "source": [
    "*person = {\"li\":18, \"wang\":50, \"zhang\":20, \"sun\":22} 找到年龄\n",
    "最大的人，并输出*"
   ]
  },
  {
   "cell_type": "code",
   "execution_count": 22,
   "metadata": {},
   "outputs": [
    {
     "name": "stdout",
     "output_type": "stream",
     "text": [
      "wang\n"
     ]
    }
   ],
   "source": [
    "person={'li':18,'wang':50,'zhang':20,'sun':22}\n",
    "max_age=max(person.values())\n",
    "for key,value in person.items():\n",
    "    if value==max_age:\n",
    "        print(key)"
   ]
  },
  {
   "cell_type": "markdown",
   "metadata": {},
   "source": [
    "*用while倒序输出1-10的奇数*"
   ]
  },
  {
   "cell_type": "code",
   "execution_count": 1,
   "metadata": {},
   "outputs": [
    {
     "name": "stdout",
     "output_type": "stream",
     "text": [
      "9\n",
      "7\n",
      "5\n",
      "3\n",
      "1\n"
     ]
    }
   ],
   "source": [
    "i=11\n",
    "while i >=2:\n",
    "    i-=1\n",
    "    if i%2==0:\n",
    "        continue\n",
    "    else:\n",
    "        print(i)"
   ]
  }
 ],
 "metadata": {
  "kernelspec": {
   "display_name": "Python [conda env:base] *",
   "language": "python",
   "name": "conda-base-py"
  },
  "language_info": {
   "codemirror_mode": {
    "name": "ipython",
    "version": 3
   },
   "file_extension": ".py",
   "mimetype": "text/x-python",
   "name": "python",
   "nbconvert_exporter": "python",
   "pygments_lexer": "ipython3",
   "version": "3.12.7"
  }
 },
 "nbformat": 4,
 "nbformat_minor": 4
}
