{
 "cells": [
  {
   "cell_type": "markdown",
   "id": "5bf129c0-2c4c-4c18-94d2-e812bdefe391",
   "metadata": {},
   "source": [
    "## 文件"
   ]
  },
  {
   "cell_type": "markdown",
   "id": "4daceaaf-dabd-4ee1-ac6b-a64d271528a4",
   "metadata": {},
   "source": [
    "**不同模式**\n",
    "\n",
    "**r**\n",
    "只读，指针默认在开头\n",
    "\n",
    "**r+**\n",
    "读写，指针开头\n",
    "\n",
    "**w**\n",
    "只写，已存在则覆盖，不存在则创建\n",
    "\n",
    "**w+**\n",
    "读写，已存在则覆盖，不存在则创建\n",
    "\n",
    "**a**\n",
    "追加，已存在则指针放末尾，不存在则创建\n",
    "\n",
    "**a+**\n",
    "读写，已存在则指针放末尾，不存在则创建"
   ]
  },
  {
   "cell_type": "markdown",
   "id": "1bdf231c-a469-4a7d-bd14-de2d6ca8502e",
   "metadata": {},
   "source": [
    "**直接open**\n",
    "记得close"
   ]
  },
  {
   "cell_type": "code",
   "execution_count": 35,
   "id": "8356f629-46e4-4e78-a035-ad9fe4d89925",
   "metadata": {},
   "outputs": [
    {
     "data": {
      "text/plain": [
       "'Hello World!'"
      ]
     },
     "execution_count": 35,
     "metadata": {},
     "output_type": "execute_result"
    }
   ],
   "source": [
    "file = open('example_1.txt', 'r')\n",
    "msg = file.read()\n",
    "msg"
   ]
  },
  {
   "cell_type": "code",
   "execution_count": 37,
   "id": "8619346e-1445-4077-9634-9d2b63bddadd",
   "metadata": {},
   "outputs": [
    {
     "data": {
      "text/plain": [
       "''"
      ]
     },
     "execution_count": 37,
     "metadata": {},
     "output_type": "execute_result"
    }
   ],
   "source": [
    "msg = file.read()\n",
    "msg"
   ]
  },
  {
   "cell_type": "code",
   "execution_count": 39,
   "id": "08e9f59e-d60d-4560-b212-372188acadf7",
   "metadata": {},
   "outputs": [],
   "source": [
    "file.close()"
   ]
  },
  {
   "cell_type": "code",
   "execution_count": 41,
   "id": "50ebaed5-e004-488c-8c98-b6e990da8d3a",
   "metadata": {},
   "outputs": [
    {
     "ename": "ValueError",
     "evalue": "I/O operation on closed file.",
     "output_type": "error",
     "traceback": [
      "\u001b[1;31m---------------------------------------------------------------------------\u001b[0m",
      "\u001b[1;31mValueError\u001b[0m                                Traceback (most recent call last)",
      "Cell \u001b[1;32mIn[41], line 1\u001b[0m\n\u001b[1;32m----> 1\u001b[0m file\u001b[38;5;241m.\u001b[39mread()\n",
      "\u001b[1;31mValueError\u001b[0m: I/O operation on closed file."
     ]
    }
   ],
   "source": [
    "file.read()"
   ]
  },
  {
   "cell_type": "markdown",
   "id": "edaf342a-d4d1-4541-87ed-8a7389008700",
   "metadata": {},
   "source": [
    "**用with来open**"
   ]
  },
  {
   "cell_type": "code",
   "execution_count": 33,
   "id": "ef76f2c1-cb0d-48df-85df-257e2465c2f1",
   "metadata": {},
   "outputs": [
    {
     "name": "stdout",
     "output_type": "stream",
     "text": [
      "信徒背刺了他的神明\n"
     ]
    }
   ],
   "source": [
    "# 通过上下文管理器with创建一个文件操作对象，并赋值给变量f\n",
    "with open('example_2.txt', 'w+',encoding='utf-8') as f:  \n",
    "    f.write('信徒背刺了他的神明')\n",
    "    f.seek(0) #把指针位置重置为0\n",
    "    print(f.read())"
   ]
  },
  {
   "cell_type": "markdown",
   "id": "4a220965-cca1-42cb-9040-7404e25ef04f",
   "metadata": {},
   "source": [
    "**/访问下一级**"
   ]
  },
  {
   "cell_type": "code",
   "execution_count": 131,
   "id": "892d3062-a59e-4087-890d-515e4d94bb75",
   "metadata": {},
   "outputs": [],
   "source": [
    "with open('file-example/try.txt','w+',encoding='utf-8') as f:\n",
    "    f.read()"
   ]
  },
  {
   "cell_type": "markdown",
   "id": "554dde43-cc53-4c23-b842-afc10801b67c",
   "metadata": {},
   "source": [
    "**访问上一级？**"
   ]
  },
  {
   "cell_type": "code",
   "execution_count": 143,
   "id": "16ddf178-7b8d-4e61-b9af-29191219788c",
   "metadata": {},
   "outputs": [],
   "source": [
    "with open('File-example\\\\try_2.txt','w+',encoding='utf-8') as f:\n",
    "    f.read()"
   ]
  },
  {
   "cell_type": "markdown",
   "id": "f54c7cc9-ba58-4ac1-95cb-da2d7b38739c",
   "metadata": {},
   "source": [
    "**read/readline/readlines**"
   ]
  },
  {
   "cell_type": "code",
   "execution_count": null,
   "id": "c81abd02-1157-41cc-9cf2-4adfbf9131ec",
   "metadata": {},
   "outputs": [],
   "source": []
  },
  {
   "cell_type": "code",
   "execution_count": 51,
   "id": "ef4dd36e-fa4e-4d1b-9e55-c530abf4a628",
   "metadata": {},
   "outputs": [],
   "source": [
    "with open('example_3.txt','w',encoding='utf-8') as f:\n",
    "    f.write('一\\n二\\n三\\n四\\n五')"
   ]
  },
  {
   "cell_type": "code",
   "execution_count": 62,
   "id": "1ee12e26-48e5-441f-a4aa-997e278a2827",
   "metadata": {},
   "outputs": [
    {
     "name": "stdout",
     "output_type": "stream",
     "text": [
      "一\n",
      "二\n",
      "三\n",
      "四\n",
      "五\n",
      "------------------------------\n",
      "一\n",
      "\n",
      "------------------------------\n",
      "['一\\n', '二\\n', '三\\n', '四\\n', '五']\n"
     ]
    }
   ],
   "source": [
    "with open('example_3.txt','r',encoding='utf-8') as f:\n",
    "    print(f.read())\n",
    "    f.seek(0)\n",
    "    print('-'*30)\n",
    "    print(f.readline())\n",
    "    f.seek(0)\n",
    "    print('-'*30)\n",
    "    print(f.readlines())"
   ]
  },
  {
   "cell_type": "markdown",
   "id": "8a3fc491-e6ac-4879-9fba-13715b77a447",
   "metadata": {},
   "source": [
    "**file.seek(offset,whence=0)**\n",
    "\n",
    "**offset**\n",
    "开始偏移量\n",
    "\n",
    "**whence**\n",
    "默认为0，0从文件开头开始，1从当前位置开始，2从文件末尾算起"
   ]
  },
  {
   "cell_type": "code",
   "execution_count": 87,
   "id": "d837152c-a069-49c0-8ade-7652848b1e17",
   "metadata": {},
   "outputs": [
    {
     "name": "stdout",
     "output_type": "stream",
     "text": [
      "信徒背刺了他的神明\n",
      "徒背刺了他的神明\n",
      "27\n"
     ]
    }
   ],
   "source": [
    "with open('example_2.txt','r',encoding='utf-8') as f:\n",
    "    print(f.read())\n",
    "    f.seek(3)\n",
    "    print(f.read())\n",
    "    print(f.tell()) #告知指针位置，以字符为单位"
   ]
  },
  {
   "cell_type": "markdown",
   "id": "1c1aa5d8-621b-4e5d-920a-cd6a68a383d4",
   "metadata": {},
   "source": [
    "## 迭代"
   ]
  },
  {
   "cell_type": "markdown",
   "id": "ac34c20e-991c-4be5-9e54-be459bab9e89",
   "metadata": {},
   "source": [
    "- iter(object)返回一个迭代器\n",
    "- next(iter_object)获得下一个元素"
   ]
  },
  {
   "cell_type": "markdown",
   "id": "daa45357-5a60-4169-88ea-3e96a93e7363",
   "metadata": {},
   "source": [
    "**for循环本质就是用了next()**"
   ]
  },
  {
   "cell_type": "code",
   "execution_count": 93,
   "id": "862d2b98-22b2-47fe-844e-5b0afc413ff0",
   "metadata": {},
   "outputs": [
    {
     "name": "stdout",
     "output_type": "stream",
     "text": [
      "1\n",
      "2\n",
      "3\n",
      "------------------------------\n",
      "1\n",
      "2\n",
      "3\n"
     ]
    }
   ],
   "source": [
    "a=[1,2,3]\n",
    "\n",
    "# Use for loop\n",
    "for x in a:\n",
    "    print(x)\n",
    "\n",
    "print('-'*30)\n",
    "# Use iterator\n",
    "iter_a=iter(a)\n",
    "print(next(iter_a))\n",
    "print(next(iter_a))\n",
    "print(next(iter_a))"
   ]
  },
  {
   "cell_type": "code",
   "execution_count": 95,
   "id": "b22fece7-3cc8-4827-973d-1b428826bf53",
   "metadata": {},
   "outputs": [
    {
     "name": "stdout",
     "output_type": "stream",
     "text": [
      "1\n",
      "2\n",
      "3\n",
      "4\n",
      "5\n"
     ]
    }
   ],
   "source": [
    "# 假设有一个列表\n",
    "my_list = [1, 2, 3, 4, 5]\n",
    "\n",
    "# 使用iter()获取迭代器\n",
    "iterator = iter(my_list)\n",
    "\n",
    "# 使用for循环迭代\n",
    "for element in iterator:\n",
    "    print(element)\n",
    "\n",
    "# 或者使用next()函数逐个访问元素\n",
    "while True:\n",
    "    try:\n",
    "        element = next(iterator)\n",
    "        print(element)\n",
    "    except StopIteration:\n",
    "        # StopIteration异常表示迭代结束\n",
    "        break"
   ]
  },
  {
   "cell_type": "markdown",
   "id": "6d5fa54a-5363-4121-b22b-9c532ddbc5f5",
   "metadata": {},
   "source": [
    "#### 使用dict.keys()获取键的迭代器："
   ]
  },
  {
   "cell_type": "code",
   "execution_count": 97,
   "id": "01285de9-c05e-404b-b76f-8834519d48d7",
   "metadata": {},
   "outputs": [
    {
     "name": "stdout",
     "output_type": "stream",
     "text": [
      "a\n"
     ]
    }
   ],
   "source": [
    "my_dict = {'a': 1, 'b': 2, 'c': 3}\n",
    "keys_iterator = iter(my_dict.keys())\n",
    "\n",
    "# 使用next()获取下一个键\n",
    "next_key = next(keys_iterator)\n",
    "print(next_key)  # 输出: 'a'"
   ]
  },
  {
   "cell_type": "markdown",
   "id": "817c8a2c-7ad8-4097-9c5b-f06b6e469bfb",
   "metadata": {},
   "source": [
    "#### 使用dict.values()获取值的迭代器："
   ]
  },
  {
   "cell_type": "code",
   "execution_count": 99,
   "id": "9481eb60-1da1-47cd-b54e-a6b803fe8a33",
   "metadata": {},
   "outputs": [
    {
     "name": "stdout",
     "output_type": "stream",
     "text": [
      "1\n"
     ]
    }
   ],
   "source": [
    "values_iterator = iter(my_dict.values())\n",
    "\n",
    "# 使用next()获取下一个值\n",
    "next_value = next(values_iterator)\n",
    "print(next_value)  # 输出: 1"
   ]
  },
  {
   "cell_type": "markdown",
   "id": "a958e84a-44b3-4470-bc5b-36e9632de4a4",
   "metadata": {},
   "source": [
    "#### 使用dict.items()获取键值对的迭代器："
   ]
  },
  {
   "cell_type": "code",
   "execution_count": 102,
   "id": "b317f2e3-58b2-41fb-bbc2-9965fe38feaa",
   "metadata": {},
   "outputs": [
    {
     "name": "stdout",
     "output_type": "stream",
     "text": [
      "('a', 1)\n"
     ]
    }
   ],
   "source": [
    "items_iterator = iter(my_dict.items())\n",
    "\n",
    "# 使用next()获取下一个键值对\n",
    "next_item = next(items_iterator)\n",
    "print(next_item)  # 输出: ('a', 1)"
   ]
  },
  {
   "cell_type": "markdown",
   "id": "13d08b7d-564d-4c68-802f-f2a714665a3c",
   "metadata": {},
   "source": [
    "#### 如果你想要迭代字典的所有键、值或键值对，可以使用for循环直接迭代这些方法返回的对象："
   ]
  },
  {
   "cell_type": "code",
   "execution_count": 15,
   "id": "399a73a0-6e0e-4b92-a716-689abdb6d2f1",
   "metadata": {},
   "outputs": [
    {
     "name": "stdout",
     "output_type": "stream",
     "text": [
      "a\n",
      "b\n",
      "c\n",
      "1\n",
      "2\n",
      "3\n",
      "('a', 1)\n",
      "('b', 2)\n",
      "('c', 3)\n"
     ]
    }
   ],
   "source": [
    "for key in my_dict.keys():\n",
    "    print(key)\n",
    "\n",
    "for value in my_dict.values():\n",
    "    print(value)\n",
    "\n",
    "for item in my_dict.items():\n",
    "    print(item)  # 输出键值对"
   ]
  },
  {
   "cell_type": "markdown",
   "id": "9a4c6132-11c2-47ae-84a1-458ebaca03fc",
   "metadata": {},
   "source": [
    "#### 如果你想要同时迭代键和值，可以使用dict.items()并将其传递给zip()函数，这样你就可以同时访问键和值："
   ]
  },
  {
   "cell_type": "code",
   "execution_count": 16,
   "id": "cabbb955-6e3e-43d1-9b9b-227662027206",
   "metadata": {},
   "outputs": [
    {
     "name": "stdout",
     "output_type": "stream",
     "text": [
      "a 1\n",
      "b 2\n",
      "c 3\n"
     ]
    }
   ],
   "source": [
    "for key, value in my_dict.items():\n",
    "    print(key, value)"
   ]
  },
  {
   "cell_type": "markdown",
   "id": "ef290a26-3d76-4c51-9567-e6c3aacd8da2",
   "metadata": {},
   "source": [
    "## 日志"
   ]
  },
  {
   "cell_type": "code",
   "execution_count": 107,
   "id": "a3b128c8-6511-46b8-b3bc-596f65e01bff",
   "metadata": {},
   "outputs": [
    {
     "data": {
      "text/plain": [
       "'2025-03-29 00:44:44.194244 | INFO / WARNING: information message'"
      ]
     },
     "execution_count": 107,
     "metadata": {},
     "output_type": "execute_result"
    }
   ],
   "source": [
    "from datetime import datetime\n",
    "\n",
    "f\"{str(datetime.now())} | INFO / WARNING: information message\""
   ]
  },
  {
   "cell_type": "code",
   "execution_count": null,
   "id": "6f798a5a-d84f-4481-9adf-77afd691ae32",
   "metadata": {},
   "outputs": [],
   "source": [
    "log = Logger(\"my_app.log\") # 初始化一个日志记录器对象\n",
    "\n",
    "...\n",
    "....\n",
    "...\n",
    "log.info(“用户登录成功”)\n",
    "... \n",
    "... \n",
    "if ...:\n",
    "    ...\n",
    "else:\n",
    "    log.warning(“用户访问异常”)"
   ]
  },
  {
   "cell_type": "code",
   "execution_count": 114,
   "id": "21bbe992-a3f0-4842-84e2-ee55d0ebd4d7",
   "metadata": {},
   "outputs": [],
   "source": [
    "from datetime import datetime\n",
    "\n",
    "class Logger:\n",
    "    \"\"\"\n",
    "    日志记录类\n",
    "    \"\"\"\n",
    "    def __init__(self, filename: str):\n",
    "        self.filename = filename\n",
    "\n",
    "    def info(self, msg: str):\n",
    "        with open(self.filename, \"a+\",encoding='utf-8') as f:\n",
    "            f.write(f\"{str(datetime.now())} | INFO: {msg}\\n\")\n",
    "\n",
    "    def warning(self, msg: str):\n",
    "        with open(self.filename, \"a+\",encoding='utf-8') as f:\n",
    "            f.write(f\"{str(datetime.now())} | WARNING: {msg}\\n\")\n",
    "\n",
    "log = Logger(\"taobao.log\")\n",
    "log.info(\"用户登录成功\")"
   ]
  },
  {
   "cell_type": "code",
   "execution_count": 116,
   "id": "c68d28c2-dd19-464f-94be-90fd5b34dad0",
   "metadata": {},
   "outputs": [],
   "source": [
    "log.warning(\"用户登录成功\")"
   ]
  },
  {
   "cell_type": "markdown",
   "id": "dd34d294-2679-4358-b2c4-96f5771b1173",
   "metadata": {},
   "source": [
    "### 练习\n",
    "*先创建两个文件A和B,各存放一行字母。然后读取这两个文件中的内容，要求把这两个文件中的信息合并(按字母顺序排列), 输出到一个新文件C中。*"
   ]
  },
  {
   "cell_type": "code",
   "execution_count": 36,
   "id": "c755daf2-10ff-489e-ba63-f4f403687ffa",
   "metadata": {},
   "outputs": [],
   "source": [
    "with open('exercise_A.txt','r') as f:\n",
    "    text_A=f.read()\n",
    "with open('exercise_B.txt','r') as f:\n",
    "    text_B=f.read()\n",
    "text_C=list(text_B+text_A)\n",
    "text_C.sort()\n",
    "with open('exercise_C.txt','w') as f:\n",
    "    f.writelines(text_C)"
   ]
  },
  {
   "cell_type": "code",
   "execution_count": 3,
   "id": "b0e58963-e3b4-4e98-8df1-e76adbe76908",
   "metadata": {},
   "outputs": [
    {
     "name": "stdout",
     "output_type": "stream",
     "text": [
      "abcdef\n"
     ]
    }
   ],
   "source": [
    "with open('exercise_C.txt','r') as f:\n",
    "    print(f.read())"
   ]
  },
  {
   "cell_type": "markdown",
   "id": "83f61793-35ae-4006-8452-61f464d3b46b",
   "metadata": {},
   "source": [
    "### 练习 \n",
    "\n",
    "*多行文本插入*"
   ]
  },
  {
   "cell_type": "code",
   "execution_count": 55,
   "id": "315b4152-92fa-4d07-be78-0b8611b72275",
   "metadata": {},
   "outputs": [
    {
     "name": "stdout",
     "output_type": "stream",
     "text": [
      "文件修改完成！\n"
     ]
    }
   ],
   "source": [
    "with open('example_4.txt','r',encoding='utf-8') as f:\n",
    "    lines = f.readlines()\n",
    "\n",
    "if len(lines) >= 3:\n",
    "    lines[2] = '新的第三行内容\\n'\n",
    "\n",
    "if lines and not lines[-1].endswith('\\n'): #前面条件为True，后面为False时执行\n",
    "    lines[-1] += '\\n'\n",
    "\n",
    "lines.append(\"这是第六行的内容\\n\")\n",
    "\n",
    "with open('example_4.txt','w',encoding='utf-8') as f:\n",
    "    f.writelines(lines)\n",
    "\n",
    "print('文件修改完成！')"
   ]
  },
  {
   "cell_type": "code",
   "execution_count": 57,
   "id": "c316beb2-0360-4c9e-b630-ad33f9458f97",
   "metadata": {},
   "outputs": [
    {
     "name": "stdout",
     "output_type": "stream",
     "text": [
      "一\n",
      "二\n",
      "新的第三行内容\n",
      "四\n",
      "五\n",
      "这是第六行的内容\n",
      "\n"
     ]
    }
   ],
   "source": [
    "with open('example_4.txt','r',encoding='utf-8') as f:\n",
    "    print(f.read())"
   ]
  },
  {
   "cell_type": "markdown",
   "id": "49ffb268-548d-4fbd-b29f-383f25381ba3",
   "metadata": {},
   "source": [
    "**tell()**\n",
    "- file.tell()返回当前文件指针的位置（字节数）\n",
    "- 读取或写入后，可以用tell()来查看当前指针位置\n",
    "\n",
    "**seek(offset, whence)**\n",
    "- seek(0, 0) 将指针移动到文件开头\n",
    "- seek(0, 2) 将指针移动到文件的末尾\n",
    "- seek(n, 0) 让指针移动到文件的第n个字符\n",
    "\n",
    "**truncate()**\n",
    "- file.truncate()用于裁剪文件，确保旧内容不会遗留"
   ]
  },
  {
   "cell_type": "code",
   "execution_count": null,
   "id": "13e723c1-8d5b-410c-b792-74295ae4afa3",
   "metadata": {},
   "outputs": [],
   "source": []
  }
 ],
 "metadata": {
  "kernelspec": {
   "display_name": "Python [conda env:base] *",
   "language": "python",
   "name": "conda-base-py"
  },
  "language_info": {
   "codemirror_mode": {
    "name": "ipython",
    "version": 3
   },
   "file_extension": ".py",
   "mimetype": "text/x-python",
   "name": "python",
   "nbconvert_exporter": "python",
   "pygments_lexer": "ipython3",
   "version": "3.12.7"
  }
 },
 "nbformat": 4,
 "nbformat_minor": 5
}
