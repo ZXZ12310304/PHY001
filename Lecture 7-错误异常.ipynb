{
 "cells": [
  {
   "cell_type": "markdown",
   "metadata": {},
   "source": [
    "## 错误和异常\n",
    "\n",
    "> 错误（Error）和异常(Exception)有不同的类型，它们在python中表示为不同的类，每个类有特定的含义和解决方法\n",
    "\n",
    "**错误**：指的是在程序的编译或者执行过程中发现的\n",
    "- 语法错误（Syntax Error）\n",
    "- 逻辑错误（Logical Error）\n",
    "\n",
    "**异常**：指的是程序执行期间发生的不预期事件 -> 可以通过异常处理的特殊代码块来进行处理\n",
    "*程序不一定会崩溃*\n",
    "- 内置异常\n",
    "- 自定义异常"
   ]
  },
  {
   "cell_type": "markdown",
   "metadata": {},
   "source": [
    "**常见异常**\n",
    "\n",
    "**NameError**\n",
    "尝试访问一个没有申明的变量\n",
    "\n",
    "**ZeroDivisionError**\n",
    "除数为0\n",
    "\n",
    "**SyntaxError**\n",
    "语法错误\n",
    "\n",
    "**IndexError**\n",
    "索引超出序列范围\n",
    "\n",
    "**KeyError**\n",
    "请求一个不存在的字典关键字（key）\n",
    "\n",
    "**FileNotFoundError**\n",
    "要读的文件不存在\n",
    "\n",
    "**TypeError**\n",
    "函数或方法接受了不适当的类型的参数，比如sum('nick')，sum函数不接受字符串类型\n",
    "\n",
    "**ValueError**\n",
    "函数或方法虽然接受了正确的类型的参数，但是该参数的值不恰当，比如int('nick')"
   ]
  },
  {
   "cell_type": "code",
   "execution_count": 3,
   "metadata": {},
   "outputs": [
    {
     "name": "stdout",
     "output_type": "stream",
     "text": [
      "没有a这个变量\n"
     ]
    }
   ],
   "source": [
    "try:\n",
    "    try:\n",
    "        print(a)\n",
    "        print(5/0)\n",
    "    except NameError:\n",
    "        print(\"没有a这个变量\")\n",
    "except:\n",
    "    print(\"不能除0\")"
   ]
  },
  {
   "cell_type": "code",
   "execution_count": 19,
   "metadata": {},
   "outputs": [
    {
     "name": "stdout",
     "output_type": "stream",
     "text": [
      "不能除0\n"
     ]
    }
   ],
   "source": [
    "try:\n",
    "    try:\n",
    "        print(5/0)\n",
    "        print(a)\n",
    "    except NameError:\n",
    "        print(\"没有a这个变量\")\n",
    "except:\n",
    "    print(\"不能除0\")"
   ]
  },
  {
   "cell_type": "markdown",
   "metadata": {},
   "source": [
    "except后面没有任何异常类型参数：不论try发生什么异常，都会执行except"
   ]
  },
  {
   "cell_type": "markdown",
   "metadata": {},
   "source": [
    "## as e\n",
    "- type(e): 打印异常类型\n",
    "- e.message：访问异常的信息\n",
    "- e.args：访问异常的其他属性或方法 -> 元组"
   ]
  },
  {
   "cell_type": "code",
   "execution_count": 12,
   "metadata": {},
   "outputs": [
    {
     "name": "stdin",
     "output_type": "stream",
     "text": [
      "请输入被除数 9\n",
      "请输入除数 0\n"
     ]
    },
    {
     "name": "stdout",
     "output_type": "stream",
     "text": [
      "错误，除数不能为0\n",
      "程序结束，感谢使用！\n"
     ]
    }
   ],
   "source": [
    "try:\n",
    "    num1=float(input('请输入被除数'))\n",
    "    num2=float(input('请输入除数'))    \n",
    "    assert num2!=0,'错误，除数不能为0'\n",
    "    \n",
    "except ValueError:\n",
    "    print('请输入有效的数字')\n",
    "    \n",
    "except AssertionError as e:\n",
    "    print(e)\n",
    "    \n",
    "except Exception as e:\n",
    "    print(f'发生未知错误:{e}')\n",
    "\n",
    "else: # try里面没有异常，执行else\n",
    "    result=num1/num2\n",
    "    print(f'结果:{result}')\n",
    "    \n",
    "finally: # 最后也没有异常都会执行\n",
    "    print('程序结束，感谢使用！')"
   ]
  },
  {
   "cell_type": "markdown",
   "metadata": {},
   "source": [
    "---"
   ]
  },
  {
   "cell_type": "markdown",
   "metadata": {},
   "source": [
    "### 练习：银行系统\n",
    "\n",
    "**要求**\n",
    "1. 定义一个BankAccount类，包含账户名、账户余额两个属性\n",
    "2. deposite() -> 存款（如果输入为负数，则抛出ValueError的异常）\n",
    "3. withdraw() -> 取款（负数/大于账户余额，则抛出ValueError的异常）\n",
    "4. get_balance() -> 返回账户当前的余额\n",
    "5. 创建用户，执行该用户多次取款存款的操作，每次操作后显示账户余额，并记录用户行为和余额到一个log日志中\n",
    "6. 对用户输入进行异常处理，确保用户输入为有效数字"
   ]
  },
  {
   "cell_type": "markdown",
   "metadata": {},
   "source": [
    "**无日志**"
   ]
  },
  {
   "cell_type": "code",
   "execution_count": 55,
   "metadata": {},
   "outputs": [],
   "source": [
    "class BankAccount():\n",
    "    def __init__(self,name:str,balance=0):\n",
    "        self.name=name\n",
    "        self.__balance=balance\n",
    "\n",
    "    def deposit(self,amount):\n",
    "        if amount<0:\n",
    "            raise ValueError('存款金额不能为负')\n",
    "        self.__balance+=amount\n",
    "        print(f'成功存入{amount}元，余额{self.__balance}元')\n",
    "\n",
    "    def withdraw(self,amount):\n",
    "        if amount<0:\n",
    "            raise ValueError('取款金额不能为负')\n",
    "        elif amount>self.__balance:\n",
    "            raise ValueError('余额不足')\n",
    "        self.__balance-=amount # 这也可以用else\n",
    "        print(f'成取出{amount}元，余额{self.__balance}元')\n",
    "\n",
    "    def get_balance(self):\n",
    "        print(f'余额为{self.__balance}元')"
   ]
  },
  {
   "cell_type": "code",
   "execution_count": 57,
   "metadata": {},
   "outputs": [
    {
     "ename": "ValueError",
     "evalue": "存款金额不能为负",
     "output_type": "error",
     "traceback": [
      "\u001b[1;31m---------------------------------------------------------------------------\u001b[0m",
      "\u001b[1;31mValueError\u001b[0m                                Traceback (most recent call last)",
      "Cell \u001b[1;32mIn[57], line 2\u001b[0m\n\u001b[0;32m      1\u001b[0m account\u001b[38;5;241m=\u001b[39mBankAccount(\u001b[38;5;124m'\u001b[39m\u001b[38;5;124mKlein\u001b[39m\u001b[38;5;124m'\u001b[39m,\u001b[38;5;241m5\u001b[39m)\n\u001b[1;32m----> 2\u001b[0m account\u001b[38;5;241m.\u001b[39mdeposit(\u001b[38;5;241m-\u001b[39m\u001b[38;5;241m5\u001b[39m)\n",
      "Cell \u001b[1;32mIn[55], line 8\u001b[0m, in \u001b[0;36mBankAccount.deposit\u001b[1;34m(self, amount)\u001b[0m\n\u001b[0;32m      6\u001b[0m \u001b[38;5;28;01mdef\u001b[39;00m \u001b[38;5;21mdeposit\u001b[39m(\u001b[38;5;28mself\u001b[39m,amount):\n\u001b[0;32m      7\u001b[0m     \u001b[38;5;28;01mif\u001b[39;00m amount\u001b[38;5;241m<\u001b[39m\u001b[38;5;241m0\u001b[39m:\n\u001b[1;32m----> 8\u001b[0m         \u001b[38;5;28;01mraise\u001b[39;00m \u001b[38;5;167;01mValueError\u001b[39;00m(\u001b[38;5;124m'\u001b[39m\u001b[38;5;124m存款金额不能为负\u001b[39m\u001b[38;5;124m'\u001b[39m)\n\u001b[0;32m      9\u001b[0m     \u001b[38;5;28mself\u001b[39m\u001b[38;5;241m.\u001b[39m__balance\u001b[38;5;241m+\u001b[39m\u001b[38;5;241m=\u001b[39mamount\n\u001b[0;32m     10\u001b[0m     \u001b[38;5;28mprint\u001b[39m(\u001b[38;5;124mf\u001b[39m\u001b[38;5;124m'\u001b[39m\u001b[38;5;124m成功存入\u001b[39m\u001b[38;5;132;01m{\u001b[39;00mamount\u001b[38;5;132;01m}\u001b[39;00m\u001b[38;5;124m元，余额\u001b[39m\u001b[38;5;132;01m{\u001b[39;00m\u001b[38;5;28mself\u001b[39m\u001b[38;5;241m.\u001b[39m__balance\u001b[38;5;132;01m}\u001b[39;00m\u001b[38;5;124m元\u001b[39m\u001b[38;5;124m'\u001b[39m)\n",
      "\u001b[1;31mValueError\u001b[0m: 存款金额不能为负"
     ]
    }
   ],
   "source": [
    "account=BankAccount('Klein',5)\n",
    "account.deposit(-5)"
   ]
  },
  {
   "cell_type": "code",
   "execution_count": 59,
   "metadata": {},
   "outputs": [
    {
     "name": "stdout",
     "output_type": "stream",
     "text": [
      "成功存入10元，余额15元\n"
     ]
    }
   ],
   "source": [
    "account.deposit(10)"
   ]
  },
  {
   "cell_type": "code",
   "execution_count": 61,
   "metadata": {},
   "outputs": [
    {
     "ename": "ValueError",
     "evalue": "余额不足",
     "output_type": "error",
     "traceback": [
      "\u001b[1;31m---------------------------------------------------------------------------\u001b[0m",
      "\u001b[1;31mValueError\u001b[0m                                Traceback (most recent call last)",
      "Cell \u001b[1;32mIn[61], line 1\u001b[0m\n\u001b[1;32m----> 1\u001b[0m account\u001b[38;5;241m.\u001b[39mwithdraw(\u001b[38;5;241m25\u001b[39m)\n",
      "Cell \u001b[1;32mIn[55], line 16\u001b[0m, in \u001b[0;36mBankAccount.withdraw\u001b[1;34m(self, amount)\u001b[0m\n\u001b[0;32m     14\u001b[0m     \u001b[38;5;28;01mraise\u001b[39;00m \u001b[38;5;167;01mValueError\u001b[39;00m(\u001b[38;5;124m'\u001b[39m\u001b[38;5;124m取款金额不能为负\u001b[39m\u001b[38;5;124m'\u001b[39m)\n\u001b[0;32m     15\u001b[0m \u001b[38;5;28;01melif\u001b[39;00m amount\u001b[38;5;241m>\u001b[39m\u001b[38;5;28mself\u001b[39m\u001b[38;5;241m.\u001b[39m__balance:\n\u001b[1;32m---> 16\u001b[0m     \u001b[38;5;28;01mraise\u001b[39;00m \u001b[38;5;167;01mValueError\u001b[39;00m(\u001b[38;5;124m'\u001b[39m\u001b[38;5;124m余额不足\u001b[39m\u001b[38;5;124m'\u001b[39m)\n\u001b[0;32m     17\u001b[0m \u001b[38;5;28mself\u001b[39m\u001b[38;5;241m.\u001b[39m__balance\u001b[38;5;241m-\u001b[39m\u001b[38;5;241m=\u001b[39mamount \u001b[38;5;66;03m# 这也可以用else\u001b[39;00m\n\u001b[0;32m     18\u001b[0m \u001b[38;5;28mprint\u001b[39m(\u001b[38;5;124mf\u001b[39m\u001b[38;5;124m'\u001b[39m\u001b[38;5;124m成取出\u001b[39m\u001b[38;5;132;01m{\u001b[39;00mamount\u001b[38;5;132;01m}\u001b[39;00m\u001b[38;5;124m元，余额\u001b[39m\u001b[38;5;132;01m{\u001b[39;00m\u001b[38;5;28mself\u001b[39m\u001b[38;5;241m.\u001b[39m__balance\u001b[38;5;132;01m}\u001b[39;00m\u001b[38;5;124m元\u001b[39m\u001b[38;5;124m'\u001b[39m)\n",
      "\u001b[1;31mValueError\u001b[0m: 余额不足"
     ]
    }
   ],
   "source": [
    "account.withdraw(25)"
   ]
  },
  {
   "cell_type": "code",
   "execution_count": 63,
   "metadata": {},
   "outputs": [
    {
     "name": "stdout",
     "output_type": "stream",
     "text": [
      "成取出10元，余额5元\n"
     ]
    }
   ],
   "source": [
    "account.withdraw(10)"
   ]
  },
  {
   "cell_type": "code",
   "execution_count": 65,
   "metadata": {},
   "outputs": [
    {
     "name": "stdout",
     "output_type": "stream",
     "text": [
      "余额为5元\n"
     ]
    }
   ],
   "source": [
    "account.get_balance()"
   ]
  },
  {
   "cell_type": "markdown",
   "metadata": {},
   "source": [
    "**有日志**"
   ]
  },
  {
   "cell_type": "code",
   "execution_count": 139,
   "metadata": {},
   "outputs": [],
   "source": [
    "from datetime import datetime\n",
    "\n",
    "class Logger():\n",
    "    def __init__(self,filename:str):\n",
    "        self.filename=filename\n",
    "\n",
    "    def info(self,msg:str):\n",
    "        with open(self.filename,'a+',encoding='utf-8') as f:\n",
    "            f.write(f'{str(datetime.now())}|INFO:{msg}\\n')\n",
    "\n",
    "    def warning(self,msg:str):\n",
    "         with open(self.filename,'a+',encoding='utf-8') as f:\n",
    "            f.write(f'{str(datetime.now())}|WARNING:{msg}\\n')"
   ]
  },
  {
   "cell_type": "code",
   "execution_count": 170,
   "metadata": {},
   "outputs": [],
   "source": [
    "class BankAccount():\n",
    "    def __init__(self,name:str,balance=0,logger=None):\n",
    "        self.name=name\n",
    "        self.__balance=balance\n",
    "        self.logger=logger\n",
    "\n",
    "    \n",
    "    def deposit(self,amount):\n",
    "        try:\n",
    "            if amount < 0:\n",
    "                raise ValueError('存款金额不能为负')                \n",
    "            self.__balance+=amount\n",
    "            print(f'成功存入{amount}元，余额{self.__balance}元')          \n",
    "            if self.logger:\n",
    "                self.logger.info(f'存款成功 - 账户：{self.name}，存入：{amount}元，当前余额：{self.__balance}元')\n",
    "            return\n",
    "                       \n",
    "        except ValueError as e:\n",
    "            print(f'错误:{e}')            \n",
    "            if self.logger:\n",
    "                self.logger.warning(f'存款失败 - 账户：{self.name}，错误：{e}')\n",
    "            return\n",
    "\n",
    "\n",
    "    def withdraw(self,amount):\n",
    "        try:\n",
    "            if amount < 0:\n",
    "                raise ValueError('取款金额不能为负')\n",
    "            elif amount > self.__balance:\n",
    "                raise ValueError('余额不足')\n",
    "            else:\n",
    "                self.__balance -= amount\n",
    "                if self.logger:\n",
    "                    self.logger.info(f'取款成功 - 账户：{self.name}，取出：{amount}，余额：{self.__balance}元')\n",
    "                    print(f\"成功取出{amount}元，当前余额：{self.__balance}元\")\n",
    "                \n",
    "        except ValueError as e:\n",
    "            if self.logger:\n",
    "                self.logger.warning(f\"取款失败 - 账户：{self.account_name}，错误：{str(e)}\")\n",
    "                print(f\"错误：{str(e)}\")\n",
    "\n",
    "\n",
    "        except ValueError as e:\n",
    "            print(f'错误:{e}')\n",
    "            if self.logger:\n",
    "                self.logger.warning(f'取款失败 - 账户：{self.name}，错误：{e}')\n",
    "            return\n",
    "\n",
    "\n",
    "    def get_balance(self):\n",
    "        return(f'余额：{self.__balance}元')"
   ]
  },
  {
   "cell_type": "code",
   "execution_count": 164,
   "metadata": {},
   "outputs": [
    {
     "name": "stdout",
     "output_type": "stream",
     "text": [
      "错误:存款金额不能为负\n"
     ]
    }
   ],
   "source": [
    "logger=Logger('Bank-logger.txt')\n",
    "account=BankAccount('Klein',5,logger)\n",
    "account.deposit(-5)"
   ]
  },
  {
   "cell_type": "code",
   "execution_count": 125,
   "metadata": {},
   "outputs": [
    {
     "name": "stdout",
     "output_type": "stream",
     "text": [
      "成功存入5元，余额10元\n"
     ]
    }
   ],
   "source": [
    "account.deposit(5)"
   ]
  },
  {
   "cell_type": "code",
   "execution_count": 127,
   "metadata": {},
   "outputs": [
    {
     "name": "stdout",
     "output_type": "stream",
     "text": [
      "错误:余额不足\n"
     ]
    }
   ],
   "source": [
    "account.withdraw(15)"
   ]
  },
  {
   "cell_type": "code",
   "execution_count": 129,
   "metadata": {},
   "outputs": [
    {
     "name": "stdout",
     "output_type": "stream",
     "text": [
      "成功取出5元，余额5元\n"
     ]
    }
   ],
   "source": [
    "account.withdraw(5)"
   ]
  },
  {
   "cell_type": "code",
   "execution_count": 131,
   "metadata": {},
   "outputs": [
    {
     "data": {
      "text/plain": [
       "'余额：5元'"
      ]
     },
     "execution_count": 131,
     "metadata": {},
     "output_type": "execute_result"
    }
   ],
   "source": [
    "account.get_balance()"
   ]
  },
  {
   "cell_type": "code",
   "execution_count": 172,
   "metadata": {},
   "outputs": [],
   "source": [
    "logger=Logger('Bank-kogger2.txt')\n",
    "account=BankAccount('German',1000,logger)"
   ]
  },
  {
   "cell_type": "code",
   "execution_count": 174,
   "metadata": {},
   "outputs": [
    {
     "name": "stdout",
     "output_type": "stream",
     "text": [
      "\n",
      "请选择操作：\n",
      "    1.存款\n",
      "    2.取款\n",
      "    3.查询余额\n",
      "    4.退出\n"
     ]
    },
    {
     "name": "stdin",
     "output_type": "stream",
     "text": [
      "请输入操作编号： 2\n",
      "请输入取款金额： 500\n"
     ]
    },
    {
     "name": "stdout",
     "output_type": "stream",
     "text": [
      "成功取出500元，当前余额：500元\n",
      "None\n",
      "\n",
      "请选择操作：\n",
      "    1.存款\n",
      "    2.取款\n",
      "    3.查询余额\n",
      "    4.退出\n"
     ]
    },
    {
     "name": "stdin",
     "output_type": "stream",
     "text": [
      "请输入操作编号： 3\n"
     ]
    },
    {
     "name": "stdout",
     "output_type": "stream",
     "text": [
      "余额：500元\n",
      "\n",
      "请选择操作：\n",
      "    1.存款\n",
      "    2.取款\n",
      "    3.查询余额\n",
      "    4.退出\n"
     ]
    },
    {
     "name": "stdin",
     "output_type": "stream",
     "text": [
      "请输入操作编号： 1\n",
      "请输入存款金额： -500\n"
     ]
    },
    {
     "name": "stdout",
     "output_type": "stream",
     "text": [
      "错误:存款金额不能为负\n",
      "None\n",
      "\n",
      "请选择操作：\n",
      "    1.存款\n",
      "    2.取款\n",
      "    3.查询余额\n",
      "    4.退出\n"
     ]
    },
    {
     "name": "stdin",
     "output_type": "stream",
     "text": [
      "请输入操作编号： 4\n"
     ]
    },
    {
     "name": "stdout",
     "output_type": "stream",
     "text": [
      "退出系统\n"
     ]
    }
   ],
   "source": [
    "while True:\n",
    "    print('''\\n请选择操作：\n",
    "    1.存款\n",
    "    2.取款\n",
    "    3.查询余额\n",
    "    4.退出''')\n",
    "\n",
    "    choice = float(input('请输入操作编号：'))\n",
    "\n",
    "    try:\n",
    "        if choice == 1.0:\n",
    "            amount = eval(input('请输入存款金额：'))\n",
    "            print(account.deposit(amount))\n",
    "        elif choice == 2.0:\n",
    "            amount = eval(input('请输入取款金额：'))\n",
    "            print(account.withdraw(amount))\n",
    "        elif choice == 3.0:\n",
    "            print(account.get_balance())\n",
    "        elif choice == 4.0:\n",
    "            print('退出系统')\n",
    "            break\n",
    "        else:\n",
    "            print('请输入有效操作编号：')\n",
    "\n",
    "    except ValueError:\n",
    "        print('无效输入，请输入有效数字')"
   ]
  },
  {
   "cell_type": "markdown",
   "metadata": {},
   "source": [
    "---"
   ]
  },
  {
   "cell_type": "markdown",
   "metadata": {},
   "source": [
    "### 练习：统计文件中的单词频率\n",
    "**要求**\n",
    "\n",
    "1. 编写一个函数count_words()\n",
    "2. 读取文件“example.txt”，并统计文件中每个单词出现的次数，忽略大小写和标点符号\n",
    "3. 将结果按以下格式输出：{'Python': 3, 'is': 3, 'fun': 1, ...}\n",
    "4. 将统计结果写入文件“word_count.txt”中，一个单词一行"
   ]
  },
  {
   "cell_type": "markdown",
   "metadata": {},
   "source": [
    "**text.translate(str.maketrans('', '', string.punctuation))** 用于移除字符串中的标点符号\n",
    "- string.punctuation 是python标准库的常量，它包含了所有常见的标点符号\n",
    "- str.maketrans() 是用于创建转换映射表的静态方法 -> 创建一个映射，将字符转换为指定的字符\n",
    "    - 1. str.maketrans(from, to) 将from字符串中的字符替换为to字符串中的字符\n",
    "      2. str.maketrans(from, to, delete) 除了替换字符之外，还可以指定一个delete字符串，表示要删除的字符\n",
    "      3. str.maketrans('', '', string.punctuation) 返回一个映射表，告诉python在文本中遇到任何标点符号时，将其删除"
   ]
  },
  {
   "cell_type": "code",
   "execution_count": 2,
   "metadata": {},
   "outputs": [],
   "source": [
    "import string\n",
    "\n",
    "def count_words():\n",
    "    with open('example.txt','r',encoding='utf-8') as f:\n",
    "        text = f.read()\n",
    "\n",
    "    text = text.lower()\n",
    "    text = text.translate(str.maketrans('','',string.punctuation))\n",
    "    \n",
    "    words = text.split()\n",
    "    word_count = {}\n",
    "\n",
    "    for word in words:\n",
    "        if word in word_count:\n",
    "            word_count[word] += 1\n",
    "        else:\n",
    "            word_count[word] = 1\n",
    "            \n",
    "    with open('word_count.txt','w',encoding='utf-8') as f:\n",
    "        for word,count in word_count.items():\n",
    "            f.write(f'{word}:{count}\\n')"
   ]
  },
  {
   "cell_type": "code",
   "execution_count": 3,
   "metadata": {},
   "outputs": [],
   "source": [
    "count_words()"
   ]
  }
 ],
 "metadata": {
  "kernelspec": {
   "display_name": "Python [conda env:base] *",
   "language": "python",
   "name": "conda-base-py"
  },
  "language_info": {
   "codemirror_mode": {
    "name": "ipython",
    "version": 3
   },
   "file_extension": ".py",
   "mimetype": "text/x-python",
   "name": "python",
   "nbconvert_exporter": "python",
   "pygments_lexer": "ipython3",
   "version": "3.12.7"
  }
 },
 "nbformat": 4,
 "nbformat_minor": 4
}
